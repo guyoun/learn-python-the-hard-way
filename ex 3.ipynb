{
 "cells": [
  {
   "cell_type": "code",
   "execution_count": 1,
   "metadata": {
    "collapsed": false
   },
   "outputs": [
    {
     "name": "stdout",
     "output_type": "stream",
     "text": [
      "I will now count my chickens:\n",
      "Hens 30\n",
      "Roosters 97\n",
      "Now I will count the eggs:\n",
      "7\n",
      "Is it true that 3 + 2 < 5 - 7?\n",
      "False\n",
      "What is 3 + 2? 5\n",
      "What is 5 -7 ? -2\n",
      "Oh, that's why it's False.\n",
      "How about some more.\n",
      "Is it greater? True\n",
      "Is it greater or equal? True\n",
      "Is it lesss or equal? False\n"
     ]
    }
   ],
   "source": [
    "print \"I will now count my chickens:\"\n",
    "\n",
    "print \"Hens\", 25 + 30/6\n",
    "print \"Roosters\", 100 - 25*3%4\n",
    "\n",
    "print \"Now I will count the eggs:\"\n",
    "\n",
    "print 3 + 2 + 1 - 5 + 4%2 - 1/4 + 6\n",
    "\n",
    "print \"Is it true that 3 + 2 < 5 - 7?\"\n",
    "print 3 + 2 < 5 - 7\n",
    "\n",
    "print \"What is 3 + 2?\", 3 + 2\n",
    "print \"What is 5 -7 ?\", 5 - 7\n",
    "\n",
    "print \"Oh, that's why it's False.\"\n",
    "\n",
    "print \"How about some more.\"\n",
    "\n",
    "print \"Is it greater?\", 5 > -2\n",
    "print \"Is it greater or equal?\", 5 >= -2\n",
    "print \"Is it lesss or equal?\", 5 <= -2"
   ]
  },
  {
   "cell_type": "markdown",
   "metadata": {
    "collapsed": true
   },
   "source": [
    "# Study Drills\n",
    "4. floating point: https://docs.python.org/2/tutorial/floatingpoint.html"
   ]
  },
  {
   "cell_type": "markdown",
   "metadata": {},
   "source": [
    "# Common Student Questions\n",
    "- PEMDAS"
   ]
  },
  {
   "cell_type": "code",
   "execution_count": 4,
   "metadata": {
    "collapsed": false
   },
   "outputs": [
    {
     "name": "stdout",
     "output_type": "stream",
     "text": [
      "1.75\n",
      "1.0\n",
      "1\n"
     ]
    }
   ],
   "source": [
    "print 7.0 / 4.0\n",
    "print 7.0 // 4.0\n",
    "print 7 / 4"
   ]
  }
 ],
 "metadata": {
  "anaconda-cloud": {},
  "kernelspec": {
   "display_name": "Python [py27]",
   "language": "python",
   "name": "Python [py27]"
  },
  "language_info": {
   "codemirror_mode": {
    "name": "ipython",
    "version": 2
   },
   "file_extension": ".py",
   "mimetype": "text/x-python",
   "name": "python",
   "nbconvert_exporter": "python",
   "pygments_lexer": "ipython2",
   "version": "2.7.12"
  }
 },
 "nbformat": 4,
 "nbformat_minor": 0
}
