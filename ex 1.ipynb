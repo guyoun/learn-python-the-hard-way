{
 "cells": [
  {
   "cell_type": "code",
   "execution_count": 1,
   "metadata": {
    "collapsed": false
   },
   "outputs": [
    {
     "name": "stdout",
     "output_type": "stream",
     "text": [
      "Hello World!\n",
      "Hello Again\n",
      "I like typing this.\n",
      "This is fun.\n",
      "Yay! Printing.\n",
      "I'd much rather you 'not'.\n",
      "I \"said\" do not touch this.\n"
     ]
    }
   ],
   "source": [
    "print \"Hello World!\"\n",
    "print \"Hello Again\"\n",
    "print \"I like typing this.\"\n",
    "print \"This is fun.\"\n",
    "print 'Yay! Printing.'\n",
    "print \"I'd much rather you 'not'.\"\n",
    "print 'I \"said\" do not touch this.'"
   ]
  },
  {
   "cell_type": "code",
   "execution_count": 3,
   "metadata": {
    "collapsed": false
   },
   "outputs": [
    {
     "name": "stdout",
     "output_type": "stream",
     "text": [
      "Hello World!\n",
      "Hello Again\n",
      "I like typing this.\n",
      "This is fun.\n",
      "Yay! Printing.\n",
      "I'd much rather you 'not'.\n",
      "I \"said\" do not touch this.\n",
      "another lines\n"
     ]
    }
   ],
   "source": [
    "print \"Hello World!\"\n",
    "print \"Hello Again\"\n",
    "print \"I like typing this.\"\n",
    "print \"This is fun.\"\n",
    "print 'Yay! Printing.'\n",
    "print \"I'd much rather you 'not'.\"\n",
    "print 'I \"said\" do not touch this.'\n",
    "print \"another lines\""
   ]
  },
  {
   "cell_type": "code",
   "execution_count": 4,
   "metadata": {
    "collapsed": false
   },
   "outputs": [
    {
     "name": "stdout",
     "output_type": "stream",
     "text": [
      "another lines\n"
     ]
    }
   ],
   "source": [
    "#print \"Hello World!\"\n",
    "#print \"Hello Again\"\n",
    "# print \"I like typing this.\"\n",
    "# print \"This is fun.\"\n",
    "# print 'Yay! Printing.'\n",
    "# print \"I'd much rather you 'not'.\"\n",
    "# print 'I \"said\" do not touch this.'\n",
    "print \"another lines\""
   ]
  }
 ],
 "metadata": {
  "anaconda-cloud": {},
  "kernelspec": {
   "display_name": "Python [py27]",
   "language": "python",
   "name": "Python [py27]"
  },
  "language_info": {
   "codemirror_mode": {
    "name": "ipython",
    "version": 2
   },
   "file_extension": ".py",
   "mimetype": "text/x-python",
   "name": "python",
   "nbconvert_exporter": "python",
   "pygments_lexer": "ipython2",
   "version": "2.7.12"
  }
 },
 "nbformat": 4,
 "nbformat_minor": 0
}
